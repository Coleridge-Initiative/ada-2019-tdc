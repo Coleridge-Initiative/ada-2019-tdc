{
 "cells": [
  {
   "cell_type": "markdown",
   "metadata": {},
   "source": [
    "<img style=\"float: center;\" src=\"images/CI_horizontal.png\" width=\"600\">\n",
    "<center>\n",
    "    <span style=\"font-size: 1.5em;\">\n",
    "        <a href='https://www.coleridgeinitiative.org'>Website</a>\n",
    "    </span>\n",
    "</center>\n",
    "\n",
    "Ghani, Rayid, Frauke Kreuter, Julia Lane, Adrianne Bradford, Alex Engler, Nicolas Guetta Jeanrenaud, Graham Henke, Daniela Hochfellner, Clayton Hunter, Brian Kim, Avishek Kumar, Jonathan Morgan, Ursula Kaczmarek, Benjamin Feder. \n",
    "\n",
    "_source to be updated when notebook added to GitHub_"
   ]
  },
  {
   "cell_type": "markdown",
   "metadata": {},
   "source": [
    "This notebook contains code we wrote to create permanent tables in the `ada_tdc_2019` schema that we reference in the [Dataset Exploration](01_2_Dataset_Exploration_2019.ipynb) notebook."
   ]
  },
  {
   "cell_type": "code",
   "execution_count": null,
   "metadata": {},
   "outputs": [],
   "source": [
    "# pandas-related imports\n",
    "import pandas as pd\n",
    "\n",
    "# database interaction imports\n",
    "import sqlalchemy"
   ]
  },
  {
   "cell_type": "code",
   "execution_count": null,
   "metadata": {
    "scrolled": true
   },
   "outputs": [],
   "source": [
    "# to create a connection to the database, \n",
    "# we need to pass the name of the database and host of the database\n",
    "\n",
    "host = 'stuffed.adrf.info'\n",
    "DB = 'appliedda'\n",
    "\n",
    "connection_string = \"postgresql://{}/{}\".format(host, DB)\n",
    "conn = sqlalchemy.create_engine(connection_string)"
   ]
  },
  {
   "cell_type": "markdown",
   "metadata": {},
   "source": [
    "The cells below chart the steps we used to create `ada_tdc_2019.q42014_hoh`, which contains social security numbers of the primary recipient of TANF benefits whose spells ended in 2014 Q4 as well as the state in which they received their benefits."
   ]
  },
  {
   "cell_type": "code",
   "execution_count": null,
   "metadata": {},
   "outputs": [],
   "source": [
    "# find case id and recipient number combinations for the primary recipient of tanf in Illinois\n",
    "qry = '''\n",
    "create temp table if not exists prim_recpt as \n",
    "select i.ch_dpa_caseid, i.recptno, i.start_date::date, i.end_date::date\n",
    "from il_dhs.indcase_spells i, il_dhs.member_relation r\n",
    "where benefit_type = 'tanf46' and end_date between '2014-10-01' and '2014-12-31' and\n",
    "r.ch_dpa_caseid = i.ch_dpa_caseid and r.recptno = i.recptno and reltogte = 82\n",
    "'''\n",
    "\n",
    "conn.execute(qry, conn)"
   ]
  },
  {
   "cell_type": "code",
   "execution_count": null,
   "metadata": {},
   "outputs": [],
   "source": [
    "# find ssns corresponding to these case id - recipient pairings for primary recipients in Illinois\n",
    "qry = '''\n",
    "create temp table if not exists il_ssns as \n",
    "select distinct(ssn_hash), 17 as fips, start_date::date, end_date::date\n",
    "from prim_recpt p , il_dhs.\"member\" m\n",
    "where m.recptno = p.recptno and m.ch_dpa_caseid = p.ch_dpa_caseid\n",
    "'''\n",
    "\n",
    "conn.execute(qry)"
   ]
  },
  {
   "cell_type": "code",
   "execution_count": null,
   "metadata": {},
   "outputs": [],
   "source": [
    "# do the same in Indiana\n",
    "qry = '''\n",
    "create temp table if not exists in_ssns as \n",
    "select distinct(ssn), 18 as fips, tanf_start_date::date, tanf_end_date::date\n",
    "from in_fssa.person_month\n",
    "where tanf_end_date between '2014-10-01' and '2014-12-31' and relat = '01'\n",
    "'''\n",
    "\n",
    "conn.execute(qry)"
   ]
  },
  {
   "cell_type": "code",
   "execution_count": null,
   "metadata": {},
   "outputs": [],
   "source": [
    "# Union the tables for Illinois and Indiana together\n",
    "qry = '''\n",
    "create table if not exists ada_tdc_2019.q42014_hoh as \n",
    "select *\n",
    "from il_ssns\n",
    "union all\n",
    "select *\n",
    "from in_ssns\n",
    "'''\n",
    "\n",
    "conn.execute(qry)"
   ]
  },
  {
   "cell_type": "markdown",
   "metadata": {},
   "source": [
    "The cells below describe the steps we used to create `ada_tdc_2019.q42014_cohort_wage`, which is a combination of all jobs during a specific subset of quarters that TANF recipients whose spells ended in 2014 Q4 worked in Indiana and Illinois."
   ]
  },
  {
   "cell_type": "code",
   "execution_count": null,
   "metadata": {},
   "outputs": [],
   "source": [
    "# find jobs in Indiana for just ssns in the 2014 Q4 data for specific years \n",
    "qry = '''\n",
    "create temp table if not exists in_wages as\n",
    "select * \n",
    "from in_dwd.wage_by_employer \n",
    "where (year = 2015 or (year  = 2014 and quarter = 4) or (year = 2016 and quarter = 1)) and \n",
    "ssn in (select distinct ssn_hash from ada_tdc_2019.q42014_hoh)\n",
    "'''\n",
    "\n",
    "conn.execute(qry)"
   ]
  },
  {
   "cell_type": "code",
   "execution_count": null,
   "metadata": {},
   "outputs": [],
   "source": [
    "# do the same thing for Illinois\n",
    "qry = '''\n",
    "create temp table if not exists il_wages as \n",
    "select *\n",
    "from il_des_kcmo.il_wage\n",
    "where (year = 2015 or (year  = 2014 and quarter = 4) or (year = 2016 and quarter = 1)) and \n",
    "ssn in (select distinct ssn_hash from ada_tdc_2019.q42014_hoh)\n",
    "'''\n",
    "\n",
    "conn.execute(qry)"
   ]
  },
  {
   "cell_type": "code",
   "execution_count": null,
   "metadata": {},
   "outputs": [],
   "source": [
    "# union Indiana and Illinois wage data together\n",
    "qry = '''\n",
    "create table if not exists ada_tdc_2019.q42014_cohort_wage as\n",
    "select ssn, year, quarter, uiacct, wages, 18 as state, format('%s-%s-1', year, quarter*3-2)::date as job_yr_q\n",
    "from in_wages\n",
    "union all \n",
    "select ssn, year, quarter, empr_no, wage, 17 as state, format('%s-%s-1', year, quarter*3-2)::date as job_yr_q\n",
    "from il_wages\n",
    "'''\n",
    "\n",
    "conn.execute(qry)"
   ]
  },
  {
   "cell_type": "markdown",
   "metadata": {},
   "source": [
    "The following cell describes the query used to create the table `ada_tdc_2019.all_wages`, which contains wage data for all employees in Illinois and Indiana between 2014 Q4 and 2016 Q1."
   ]
  },
  {
   "cell_type": "code",
   "execution_count": null,
   "metadata": {},
   "outputs": [],
   "source": [
    "# all employees wage data between 2014Q4 and 2016Q1\n",
    "qry = '''\n",
    "create table if not exists ada_tdc_2019.all_wages as\n",
    "select ssn, year, quarter, uiacct, wages, 18 as state, format('%s-%s-1', year, quarter*3-2)::date as job_yr_q\n",
    "from in_dwd.wage_by_employer\n",
    "where year = 2015 or (year = 2014 and quarter = 4) or (year = 2016 and quarter = 1)\n",
    "union all \n",
    "select ssn, year, quarter, empr_no, wage, 17 as state, format('%s-%s-1', year, quarter*3-2)::date as job_yr_q\n",
    "from il_des_kcmo.il_wage\n",
    "where year = 2015 or (year = 2014 and quarter = 4) or (year = 2016 and quarter = 1)\n",
    "'''\n",
    "\n",
    "conn.execute(qry)"
   ]
  },
  {
   "cell_type": "markdown",
   "metadata": {},
   "source": [
    "The following cells contain the queries used to create the table `ada_tdc_2019.all_employers`, which contains data about every employer in Indiana and Illinois in 2015 Q1 that hired at least one individual in the UI wage data in 2015 Q1."
   ]
  },
  {
   "cell_type": "code",
   "execution_count": null,
   "metadata": {},
   "outputs": [],
   "source": [
    "# find sizes of employers in Indiana\n",
    "qry = '''\n",
    "create temp table in_all_empl as \n",
    "select e.uiacct, e.naics, COUNT(DISTINCT(w.ssn)) as size, 18 as state\n",
    "from in_dwd.in_qcew_employers e\n",
    "join in_dwd.wage_by_employer w\n",
    "on e.uiacct = w.uiacct\n",
    "where e.uiacct in (select distinct uiacct from ada_tdc_2019.all_wages where state = 18) and \n",
    "e.year = 2015 and e.quarter = 1 and w.year = 2015 and w.quarter = 1\n",
    "group by e.uiacct, e.naics;\n",
    "'''\n",
    "\n",
    "conn.execute(qry)"
   ]
  },
  {
   "cell_type": "code",
   "execution_count": null,
   "metadata": {},
   "outputs": [],
   "source": [
    "# join Indiana and Illinois employer data\n",
    "qry = '''\n",
    "create table if not exists ada_tdc_2019.all_employers as\n",
    "select *\n",
    "from in_all_empl\n",
    "union all \n",
    "select empr_no, substring(naics_combined from 1 for 3), GREATEST(empl_month1, empl_month2, empl_month3)::integer, 17 as state\n",
    "from il_des_kcmo.il_qcew_employers\n",
    "where empr_no in (select distinct uiacct from ada_tdc_2019.all_wages where state = 17) and\n",
    "year = 2015 and quarter = 1\n",
    "group by empr_no, substring(naics_combined from 1 for 3), empl_month1, empl_month2, empl_month3\n",
    "'''\n",
    "\n",
    "conn.execute(qry)"
   ]
  },
  {
   "cell_type": "markdown",
   "metadata": {},
   "source": [
    "The following cells contain the queries used to create the table `ada_tdc_2019.tanf_employers`, which contains data about every employer in Indiana and Illinois in 2015 Q1 that hired at least one individual who was a primary recipient of TANF benefits that ended in 2014 Q4 and was present in the UI wage data in 2015 Q1."
   ]
  },
  {
   "cell_type": "code",
   "execution_count": null,
   "metadata": {},
   "outputs": [],
   "source": [
    "# find sizes of employers of primary recipients of TANF benefits that ended in 2014 Q4 in Indiana\n",
    "qry = '''\n",
    "create temp table if not exists in_tanf_empl as \n",
    "select e.uiacct, e.naics, COUNT(DISTINCT(w.ssn)) as size, 18 as state\n",
    "from in_dwd.in_qcew_employers e\n",
    "join in_dwd.wage_by_employer w\n",
    "on e.uiacct = w.uiacct\n",
    "where e.uiacct in (select distinct uiacct from ada_tdc_2019.q42014_cohort_wage where state = 18) and \n",
    "e.year = 2015 and e.quarter = 1 and w.year = 2015 and w.quarter = 1\n",
    "group by e.uiacct, e.naics;\n",
    "'''\n",
    "\n",
    "conn.execute(qry)"
   ]
  },
  {
   "cell_type": "code",
   "execution_count": null,
   "metadata": {},
   "outputs": [],
   "source": [
    "# join employer data for Indiana and Illinois for those who \n",
    "# employed primary recipients of TANF benefits that ended in 2014 Q4\n",
    "qry = '''\n",
    "create table if not exists ada_tdc_2019.tanf_employers as\n",
    "select *\n",
    "from in_tanf_empl\n",
    "union all \n",
    "select empr_no, substring(naics_combined from 1 for 3), GREATEST(empl_month1, empl_month2, empl_month3)::integer, 17 as state\n",
    "from il_des_kcmo.il_qcew_employers\n",
    "where empr_no in (select distinct uiacct from ada_tdc_2019.q42014_cohort_wage where state = 17) and\n",
    "year = 2015 and quarter = 1 and (multi_unit_code = '1' or multi_unit_code = '2')\n",
    "group by empr_no, substring(naics_combined from 1 for 3), empl_month1, empl_month2, empl_month3\n",
    "'''\n",
    "\n",
    "conn.execute()"
   ]
  }
 ],
 "metadata": {
  "kernelspec": {
   "display_name": "py3-ada",
   "language": "python",
   "name": "py3-ada"
  },
  "language_info": {
   "codemirror_mode": {
    "name": "ipython",
    "version": 3
   },
   "file_extension": ".py",
   "mimetype": "text/x-python",
   "name": "python",
   "nbconvert_exporter": "python",
   "pygments_lexer": "ipython3",
   "version": "3.7.3"
  },
  "toc": {
   "nav_menu": {},
   "number_sections": false,
   "sideBar": true,
   "skip_h1_title": false,
   "toc_cell": false,
   "toc_position": {
    "height": "566px",
    "left": "0px",
    "right": "954px",
    "top": "110px",
    "width": "179px"
   },
   "toc_section_display": "block",
   "toc_window_display": true
  }
 },
 "nbformat": 4,
 "nbformat_minor": 2
}
