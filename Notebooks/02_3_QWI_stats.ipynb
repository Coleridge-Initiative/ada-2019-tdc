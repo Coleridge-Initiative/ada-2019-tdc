{
 "cells": [
  {
   "cell_type": "markdown",
   "metadata": {},
   "source": [
    "## QWI statistics\n",
    "\n",
    "This notebook will provide a brief example of how to recreate different quarterly workforce indicators from our given data tables. Here are the following steps to do so:\n",
    "\n",
    "1) Create cohort frame with QWI columns as placeholders\n",
    "\n",
    "2) Fill in t-4 through t+1 job flag for the cohort\n",
    "> 'emp_current_qrt','emp_4qtrs_ago','emp_3qtrs_ago','emp_2qtrs_ago'\n",
    "                 ,'emp_prev_qtr', 'emp_next_qtr'\n",
    "\n",
    "3) Calculate other statistics' flags\n",
    "> ,'emp_begin_qtr','emp_end_qtr'\n",
    "                 ,'emp_full_qtr','accessions_current', 'accessions_consecutive_qtr'\n",
    "                 ,'accessions_full_qtr','separations','new_hires','recalls'\n",
    "                 \n",
    "Now you have a flag of whether each job in your study quarter is one of the given QWI stats.\n",
    "\n",
    "4) Optionally summarize QWI stats by employer\n",
    "\n",
    "The following cell contains brief descriptions of some QWI statistics."
   ]
  },
  {
   "cell_type": "markdown",
   "metadata": {},
   "source": [
    "* **Flow Employment** (`emp_current_qtr`, `emp_4qtrs_ago`, `emp_3qtrs_ago`, `emp_2qtrs_ago`, `emp_prev_qtr`, `emp_next_qtr`) : These are simple indicators for whether a job existed in each quarter. Recall that by construction, `emp_current_qtr` will always be 1. Changes across the other quarters do not relate directly to changes in employment rates, but rather to the longevity of jobs in the focal quarter. Hence, expect `emp_prev_qtr` to take value 1 more often then `emp_2qtrs_ago`, and so on. \n",
    "* **Beginning of Quarter Employment** (`emp_begin_qtr`): Indicates a job that also existed in the prior quarter. Again, because the universe is jobs in the focal quarter, the average of `emp_begin_qtr` should be read as \"percentage of jobs in the focal quarter that were carried over from the prior quarter.\" The same principle applies to all remaining indicators.\n",
    "* **End of Quarter Employment** (`emp_end_qtr`): Indicates a job that continued to exist in the following quarter. \n",
    "* **Full Quarter Employment** (`emp_full_qtr`): Indicates a job that also existed in both the prior and following quarter. This indicator is also known as \"stable\" employment. Though flow employment can reflect a job that lasted only a short period of time, we will typically assume that a stable job existed for the entirety of the focal quarter. \n",
    "* **Accessions** (`accessions_current`): Indicates a job that did NOT exist in the prior quarter. This can include new hires and recalls, which are addressed separately below.\n",
    "* **Accessions to Consecutive Quarter Status** (`accessions_consecutive_qtr`): Indicates accessions that continued to exist in the following quarter.\n",
    "* **Accessions to Full Quarter Status** (`accessions_full_qtr`): Indicates an accession that occurred the prior quarter and continued to exist in the following quarter. To be clear, `accessions_consecutive_qtr` is a subset of `accessions_current` but `accessions_full_qtr` is not. These jobs were absent in `m2`, present in `m1`, present in `t`, and present in `p1`. \n",
    "* **Separations** (`separations`): Indicates a job that did not continue to exist in the following quarter. \n",
    "* **New Hires** (`new_hires`): Indicates an accession that did not exist in **any** observed prior quarter. Note that a recall after more than one year away from the job will be defined here as a new hire.\n",
    "* **Recalls** (`recalls`): Indicates an accession that **did** exist in some observed prior quarter. To be clear, this is a job that was absent in `m1` but present in `m4`, `m3`, or `m2`. "
   ]
  },
  {
   "cell_type": "code",
   "execution_count": null,
   "metadata": {},
   "outputs": [],
   "source": [
    "import sqlalchemy\n",
    "import math"
   ]
  },
  {
   "cell_type": "code",
   "execution_count": null,
   "metadata": {},
   "outputs": [],
   "source": [
    "##Find the right year and quarter, with i=0 corresponding to the 4th lag   \n",
    "keyYr = 2010\n",
    "keyQ = 2\n",
    "\n",
    "# show quarter selection\n",
    "for i in range(0,6):\n",
    "    yr = int(keyYr - 1 + math.floor((keyQ+i-1)/4))\n",
    "    q = int(keyQ + i - 4*math.floor((keyQ+i-1)/4))\n",
    "    print('i={} | yr={} | q={}'.format(i, yr, q))"
   ]
  },
  {
   "cell_type": "code",
   "execution_count": null,
   "metadata": {},
   "outputs": [],
   "source": [
    "host = 'stuffed'\n",
    "db = 'appliedda'\n",
    "\n",
    "conn = sqlalchemy.create_engine('postgresql://{}/{}'.format(host, db))"
   ]
  },
  {
   "cell_type": "code",
   "execution_count": null,
   "metadata": {},
   "outputs": [],
   "source": [
    "import time"
   ]
  },
  {
   "cell_type": "code",
   "execution_count": null,
   "metadata": {},
   "outputs": [],
   "source": [
    "start_time = time.time()\n",
    "sql = '''\n",
    "CREATE TEMP TABLE qwi_cohort AS\n",
    "SELECT * \n",
    "FROM il_des_kcmo.il_wage\n",
    "WHERE year={} AND quarter={}\n",
    "'''.format(keyYr, keyQ)\n",
    "\n",
    "conn.execute(sql)\n",
    "print('run in {:.2f} secs'.format(time.time()-start_time))"
   ]
  },
  {
   "cell_type": "code",
   "execution_count": null,
   "metadata": {},
   "outputs": [],
   "source": [
    "qwi_cols = ['emp_current_qrt','emp_4qtrs_ago','emp_3qtrs_ago','emp_2qtrs_ago' ,\n",
    "            'emp_prev_qtr', 'emp_next_qtr','emp_begin_qtr','emp_end_qtr' ,\n",
    "            'emp_full_qtr','accessions_current', 'accessions_consecutive_qtr' ,\n",
    "            'accessions_full_qtr','separations','new_hires','recalls']"
   ]
  },
  {
   "cell_type": "code",
   "execution_count": null,
   "metadata": {},
   "outputs": [],
   "source": [
    "for col in qwi_cols:\n",
    "    sql='''\n",
    "    ALTER TABLE qwi_cohort ADD COLUMN {} int\n",
    "    '''.format(col)\n",
    "    conn.execute(sql);\n",
    "    print('{} added'.format(col))"
   ]
  },
  {
   "cell_type": "code",
   "execution_count": null,
   "metadata": {},
   "outputs": [],
   "source": [
    "import pandas as pd"
   ]
  },
  {
   "cell_type": "code",
   "execution_count": null,
   "metadata": {},
   "outputs": [],
   "source": [
    "# df = pd.read_sql('select * from qwi_cohort limit 50', conn)"
   ]
  },
  {
   "cell_type": "code",
   "execution_count": null,
   "metadata": {},
   "outputs": [],
   "source": [
    "# print(df.columns.tolist())"
   ]
  },
  {
   "cell_type": "code",
   "execution_count": null,
   "metadata": {},
   "outputs": [],
   "source": [
    "# update current quarter employment flag\n",
    "start_time = time.time()\n",
    "sql='''\n",
    "UPDATE qwi_cohort SET emp_current_qrt = \n",
    "    CASE WHEN wage > 0 THEN 1 ELSE 0 END\n",
    "'''\n",
    "conn.execute(sql)\n",
    "print('complete in {:.2f} secs'.format(time.time()-start_time))"
   ]
  },
  {
   "cell_type": "code",
   "execution_count": null,
   "metadata": {},
   "outputs": [],
   "source": [
    "## test update\n",
    "\n",
    "# keyYr = 2010\n",
    "# keyQ = 2\n",
    "\n",
    "# i=1\n",
    "# col = 'emp_3qtrs_ago'\n",
    "\n",
    "# yr = int(keyYr - 1 + math.floor((keyQ+i-1)/4))\n",
    "# q = int(keyQ + i - 4*math.floor((keyQ+i-1)/4))\n",
    "\n",
    "# # update this quarter employment flag\n",
    "# sql='''\n",
    "# UPDATE qwi_cohort a SET {} = \n",
    "#     CASE WHEN b.wage IS NOT NULL AND b.wage > 0 THEN 1 ELSE 0 END\n",
    "# FROM il_des_kcmo.il_wage b\n",
    "# WHERE b.year={} AND b.quarter={} --grab correct quarter\n",
    "#     AND a.ssn=b.ssn AND a.ein=b.ein --ensure same job\n",
    "#     AND a.empr_no=b.empr_no AND a.seinunit=b.seinunit\n",
    "# '''.format(col, yr, q)\n",
    "# print(sql)"
   ]
  },
  {
   "cell_type": "code",
   "execution_count": null,
   "metadata": {},
   "outputs": [],
   "source": [
    "start_time = time.time()\n",
    "conn.execute(sql)\n",
    "print('complete in {:.2f} secs'.format(time.time()-start_time))"
   ]
  },
  {
   "cell_type": "code",
   "execution_count": null,
   "metadata": {},
   "outputs": [],
   "source": [
    "# df = pd.read_sql('select * from qwi_cohort where emp_3qtrs_ago IS NOT NULL LIMIT 100', conn)"
   ]
  },
  {
   "cell_type": "code",
   "execution_count": null,
   "metadata": {},
   "outputs": [],
   "source": [
    "# df[['wage', 'emp_current_qrt', 'emp_4qtrs_ago', 'emp_3qtrs_ago', 'emp_2qtrs_ago']].head()"
   ]
  },
  {
   "cell_type": "markdown",
   "metadata": {},
   "source": [
    "Did test work (did records return and is `emp_3qtrs_ago` populated)?"
   ]
  },
  {
   "cell_type": "code",
   "execution_count": null,
   "metadata": {},
   "outputs": [],
   "source": [
    "# order employment flags properly for 0-5 index below\n",
    "emp_flags = ['emp_4qtrs_ago', 'emp_3qtrs_ago', 'emp_2qtrs_ago', 'emp_prev_qtr', \n",
    "             'skip_curr_qtr', 'emp_next_qtr']\n",
    "\n",
    "# loop through an integer list\n",
    "# 0 is 4th lag (4 quarters ago)\n",
    "\n",
    "for i in range(0,6):\n",
    "    start_time = time.time()\n",
    "    if i==4:\n",
    "        continue # skip study quarter as already in our cohort\n",
    "#     print(emp_flags[i]) # test/debug\n",
    "\n",
    "    # select this column\n",
    "    col = emp_flags[i]\n",
    "\n",
    "    yr = int(keyYr - 1 + math.floor((keyQ+i-1)/4))\n",
    "    q = int(keyQ + i - 4*math.floor((keyQ+i-1)/4))\n",
    "\n",
    "    # update this quarter employment flag\n",
    "    sql='''\n",
    "    UPDATE qwi_cohort a SET {} = \n",
    "        CASE WHEN b.wage IS NOT NULL AND b.wage > 0 THEN 1 ELSE 0 END\n",
    "    FROM il_des_kcmo.il_wage b\n",
    "    WHERE b.year={} AND b.quarter={} --grab correct quarter\n",
    "        AND a.ssn=b.ssn AND a.ein=b.ein --ensure same job\n",
    "        AND a.empr_no=b.empr_no AND a.seinunit=b.seinunit\n",
    "    '''.format(col, yr, q)\n",
    "    \n",
    "    # update this column\n",
    "    conn.execute(sql)\n",
    "    \n",
    "    print('completed {} in {:.2f} seconds'.format(col, time.time()-start_time))"
   ]
  },
  {
   "cell_type": "markdown",
   "metadata": {},
   "source": [
    "### QWI stats\n",
    "- emp_begin_qtr\n",
    "- emp_end_qtr\n",
    "- emp_full_qtr\n",
    "- accessions_current\n",
    "- accessions_consecutive_qtr\n",
    "- accessions_full_qtr\n",
    "- separations\n",
    "- new_hires\n",
    "- recalls"
   ]
  },
  {
   "cell_type": "code",
   "execution_count": null,
   "metadata": {},
   "outputs": [],
   "source": [
    "#Beginning of Quarter Employment\n",
    "# res['qwbt'] = 1*((res['qwmtm1']==1) & (res['qwmt']==1))\n",
    "\n",
    "sql = '''\n",
    "UPDATE qwi_cohort a SET emp_begin_qtr = \n",
    "    CASE WHEN emp_prev_qtr = 1 AND emp_current_qrt = 1 THEN 1 ELSE 0 END\n",
    "'''\n",
    "conn.execute(sql)"
   ]
  },
  {
   "cell_type": "code",
   "execution_count": null,
   "metadata": {},
   "outputs": [],
   "source": [
    "#End of Quarter Employment\n",
    "# res['qwet'] = 1*((res['qwmt']==1) & (res['qwmtp1']==1))\n",
    "\n",
    "sql = '''\n",
    "UPDATE qwi_cohort a SET emp_end_qtr = \n",
    "    CASE WHEN emp_current_qrt = 1 AND emp_next_qtr = 1 THEN 1 ELSE 0 END\n",
    "'''\n",
    "conn.execute(sql)"
   ]
  },
  {
   "cell_type": "code",
   "execution_count": null,
   "metadata": {},
   "outputs": [],
   "source": [
    "#Full Quarter Employment\n",
    "# res['qwft'] = 1*((res['qwmtm1']==1) & (res['qwmt']==1) & (res['qwmtp1']==1))\n",
    "\n",
    "sql = '''\n",
    "UPDATE qwi_cohort a SET emp_full_qtr = \n",
    "    CASE WHEN emp_prev_qtr = 1 AND emp_current_qrt = 1 AND emp_next_qtr = 1 THEN 1 ELSE 0 END\n",
    "'''\n",
    "conn.execute(sql)"
   ]
  },
  {
   "cell_type": "code",
   "execution_count": null,
   "metadata": {},
   "outputs": [],
   "source": [
    "#Accessions\n",
    "# res['qwat'] = 1*((res['qwmtm1']==0) & (res['qwmt']==1))\n",
    "\n",
    "sql = '''\n",
    "UPDATE qwi_cohort a SET accessions_current = \n",
    "    CASE WHEN emp_prev_qtr = 0 AND emp_current_qrt = 1THEN 1 ELSE 0 END\n",
    "'''\n",
    "conn.execute(sql)"
   ]
  },
  {
   "cell_type": "code",
   "execution_count": null,
   "metadata": {},
   "outputs": [],
   "source": [
    "#Accessions to Consecutive Quarter Status\n",
    "# res['qwa2t'] = 1*((res['qwat']==1) & (res['qwmtp1']==1))\n",
    "\n",
    "sql = '''\n",
    "UPDATE qwi_cohort a SET accessions_consecutive_qtr = \n",
    "    CASE WHEN accessions_current = 1 AND emp_next_qtr = 1 THEN 1 ELSE 0 END\n",
    "'''\n",
    "conn.execute(sql)"
   ]
  },
  {
   "cell_type": "code",
   "execution_count": null,
   "metadata": {},
   "outputs": [],
   "source": [
    "#Accessions to Full Quarter Status\n",
    "# res['qwa3t'] = 1*((res['qwmtm2']==0) & (res['qwmtm1']==1) & (res['qwmt']==1) \n",
    "#                   & (res['qwmtp1']==1))\n",
    "\n",
    "sql = '''\n",
    "UPDATE qwi_cohort a SET accessions_full_qtr = \n",
    "    CASE WHEN emp_2qtrs_ago = 0 AND emp_prev_qtr = 1 AND emp_current_qrt = 1 \n",
    "        AND emp_next_qtr = 1 THEN 1 ELSE 0 END\n",
    "'''\n",
    "conn.execute(sql)"
   ]
  },
  {
   "cell_type": "code",
   "execution_count": null,
   "metadata": {},
   "outputs": [],
   "source": [
    "#Separations\n",
    "# res['qwst'] = 1*((res['qwmt']==1) & (res['qwmtp1']==0))\n",
    "\n",
    "''\n",
    "sql = '''\n",
    "UPDATE qwi_cohort a SET separations = \n",
    "    CASE WHEN emp_current_qrt = 1 AND emp_next_qtr = 0 THEN 1 ELSE 0 END\n",
    "'''\n",
    "conn.execute(sql)"
   ]
  },
  {
   "cell_type": "code",
   "execution_count": null,
   "metadata": {},
   "outputs": [],
   "source": [
    "#New Hires\n",
    "# res['qwht'] = 1*((res['qwmtm4']==0) & (res['qwmtm3']==0) & (res['qwmtm2']==0) \n",
    "#                  & (res['qwmtm1']==0) & (res['qwmt']==1))\n",
    "\n",
    "sql = '''\n",
    "UPDATE qwi_cohort a SET new_hires = \n",
    "    CASE WHEN emp_4qtrs_ago = 0 AND emp_3qtrs_ago = 0 \n",
    "        AND emp_2qtrs_ago = 0 AND emp_prev_qtr = 0\n",
    "        AND emp_current_qrt = 1  THEN 1 ELSE 0 END\n",
    "'''\n",
    "conn.execute(sql)"
   ]
  },
  {
   "cell_type": "code",
   "execution_count": null,
   "metadata": {},
   "outputs": [],
   "source": [
    "#Recalls\n",
    "# res['qwrt'] = 1*((res['qwmtm1']==0) & (res['qwmt']==1) & (res['qwht']==0))\n",
    "\n",
    "''\n",
    "sql = '''\n",
    "UPDATE qwi_cohort a SET recalls = \n",
    "    CASE WHEN emp_prev_qtr = 0 AND emp_current_qrt = 1 AND new_hires = 0 THEN 1 ELSE 0 END\n",
    "'''\n",
    "conn.execute(sql)"
   ]
  },
  {
   "cell_type": "code",
   "execution_count": null,
   "metadata": {},
   "outputs": [],
   "source": [
    "# read QWI for this study quarter into the notebook to explore\n",
    "# NOTE: may not be able to pull the entire cohort as it is 7M"
   ]
  },
  {
   "cell_type": "code",
   "execution_count": null,
   "metadata": {},
   "outputs": [],
   "source": [
    "# create summary SQL code\n",
    "\n",
    "\n",
    "col_list = ['emp_current_qrt','emp_4qtrs_ago','emp_3qtrs_ago','emp_2qtrs_ago' ,\n",
    "            'emp_prev_qtr', 'emp_next_qtr','emp_begin_qtr','emp_end_qtr' ,\n",
    "            'emp_full_qtr','accessions_current', 'accessions_consecutive_qtr' ,\n",
    "            'accessions_full_qtr','separations','new_hires','recalls']\n",
    "avgs = ','.join(['avg('+c+') avg_'+c for c in col_list])\n",
    "sums = ','.join(['sum('+c+') sum_'+c for c in col_list])\n",
    "\n",
    "\n",
    "summ_sql = \"\"\"\n",
    "SELECT ein, {}, {}\n",
    "FROM qwi_cohort\n",
    "GROUP BY ein\n",
    "\"\"\".format(avgs, sums)\n",
    "\n",
    "print(summ_sql)"
   ]
  },
  {
   "cell_type": "code",
   "execution_count": null,
   "metadata": {},
   "outputs": [],
   "source": [
    "df = pd.read_sql(summ_sql, conn)"
   ]
  },
  {
   "cell_type": "code",
   "execution_count": null,
   "metadata": {},
   "outputs": [],
   "source": [
    "df.head()"
   ]
  }
 ],
 "metadata": {
  "kernelspec": {
   "display_name": "py3-ada",
   "language": "python",
   "name": "py3-ada"
  },
  "language_info": {
   "codemirror_mode": {
    "name": "ipython",
    "version": 3
   },
   "file_extension": ".py",
   "mimetype": "text/x-python",
   "name": "python",
   "nbconvert_exporter": "python",
   "pygments_lexer": "ipython3",
   "version": "3.7.3"
  }
 },
 "nbformat": 4,
 "nbformat_minor": 2
}
